{
  "nbformat": 4,
  "nbformat_minor": 0,
  "metadata": {
    "colab": {
      "provenance": [],
      "toc_visible": true,
      "authorship_tag": "ABX9TyOOZ71Hb7ohiHEfIGlzL68/",
      "include_colab_link": true
    },
    "kernelspec": {
      "name": "python3",
      "display_name": "Python 3"
    },
    "language_info": {
      "name": "python"
    }
  },
  "cells": [
    {
      "cell_type": "markdown",
      "metadata": {
        "id": "view-in-github",
        "colab_type": "text"
      },
      "source": [
        "<a href=\"https://colab.research.google.com/github/rayaneghilene/Statistics_Python_Labs/blob/main/Tp3_Stat_GHILENE.ipynb\" target=\"_parent\"><img src=\"https://colab.research.google.com/assets/colab-badge.svg\" alt=\"Open In Colab\"/></a>"
      ]
    },
    {
      "cell_type": "markdown",
      "source": [
        "# TP3 : Estimation de densité\n",
        "Dans ce TP, nous utiliserons le langage Python. Il y’a plusieurs manière de l’utiliser, premièrement,\n",
        "il faut une partie d’écriture de programmes (au format .py) qui peut seulement être faite avec n’importe\n",
        "quel éditeur de texte, il y’a ensuite un logiciel de compilation des programmes Python, vous pouvez\n",
        "utiliser celui de votre choix. Chaque graphique demandé dans ce TP sera à enregistrer au format PiNOM1NOM2Qj.png où i est le numéro de la partie en question, j est le numéro de la question au sein\n",
        "de la partie considérée et NOM1 et NOM2 sont les deux noms de famille des deux membres du binôme\n",
        "de TP. Chaque question comportant le symbole ? nécessitera la création d’un graphique à enregistrer\n",
        "comme spécifié ci-dessus. S’il y’a plusieurs graphiques à faire pour une seule question, ils seront nommés\n",
        "PiNOM1NOM2Qja.png, PiNOM1NOM2Qjb.png etc..."
      ],
      "metadata": {
        "id": "T--gVQRpVAwq"
      }
    },
    {
      "cell_type": "code",
      "execution_count": null,
      "metadata": {
        "id": "llHPQHM-UcOt"
      },
      "outputs": [],
      "source": [
        "import numpy as np\n",
        "import matplotlib.pyplot as plt\n",
        "from scipy.stats import norm\n",
        "from sklearn.neighbors import KernelDensity"
      ]
    },
    {
      "cell_type": "code",
      "source": [
        "def reference(x): #la densité à estimer\n",
        "        return 1/(np.sqrt(2*np.pi))*np.exp(-x**2/2)"
      ],
      "metadata": {
        "id": "rKaE5idnUq1c"
      },
      "execution_count": null,
      "outputs": []
    },
    {
      "cell_type": "markdown",
      "source": [
        "#Partie 1 \n",
        "\n",
        "Le but de cette partie est de définir, représenter et comparer l’efficacité des quatre noyaux de la\n",
        "préparation pour l’estimation de la densité d’une gaussienne standard f. On suppose donc que X1, . . . , Xn\n",
        "est un échantillon de taille n de variables indépendantes et identiquement distribuées selon la loi normale\n",
        "centré réduite de densité f. Télécharger le script TP3.py disponible sur Moodle, c’est dans ce script que\n",
        "vous définirez toutes les fonctions et répondrez aux questions.\n",
        "\n",
        "---\n",
        "\n",
        "\n",
        "\n"
      ],
      "metadata": {
        "id": "3hdl60LnVc-5"
      }
    },
    {
      "cell_type": "markdown",
      "source": [
        "###Question 1\n",
        "Définir quatre fonctions K1, K2, K3, K4 correspondant respectivement aux\n",
        "noyaux uniforme, triangle, d’Epanechnikov et gaussien."
      ],
      "metadata": {
        "id": "JSvwsYjxWtIy"
      }
    },
    {
      "cell_type": "code",
      "source": [
        "def K1(x):\n",
        "    \n",
        "    \n",
        "def K2(x):\n",
        "        \n",
        "\n",
        "def K3(x):\n",
        "        \n",
        "\n",
        "def K4(x):\n"
      ],
      "metadata": {
        "id": "V0PRTXrJVcRS"
      },
      "execution_count": null,
      "outputs": []
    },
    {
      "cell_type": "markdown",
      "source": [
        "###Question 2\n",
        "Représentez ces quatre noyaux sur un même graphique (utiliser une légende et des couleurs\n",
        "différentes). Créer une fonction pour faire cette question que vous nommerez AllplotK qui prendra\n",
        "en entrée les paramètres du graphique (le pas, xmin, xmax, les couleurs etc...) et représentera le\n",
        "graphique en retour."
      ],
      "metadata": {
        "id": "xdPz3nRLUeK6"
      }
    },
    {
      "cell_type": "code",
      "source": [
        "def AllplotK(pas,xmin,xmax,col1,col2,col3,col4):\n"
      ],
      "metadata": {
        "id": "CBfLwJLfWXe5"
      },
      "execution_count": null,
      "outputs": []
    },
    {
      "cell_type": "markdown",
      "source": [
        "### Question 3\n",
        "Générer une réalisation de l’échantillon aléatoire X selon la loi gaussienne standard de taille n. (n\n",
        "est pour l’instant fixé à 100 dans le script)."
      ],
      "metadata": {
        "id": "erECNcHuWcTh"
      }
    },
    {
      "cell_type": "code",
      "source": [
        "n=100\n",
        "X=\n"
      ],
      "metadata": {
        "id": "oh026KmVWbdi"
      },
      "execution_count": null,
      "outputs": []
    },
    {
      "cell_type": "markdown",
      "source": [
        "###Question 4\n",
        "Définir la fonction fchapeau qui prend comme argument une fonction K (le noyau), la fenêtre h\n",
        "et la réalisation de l’échantillon X et une variable x et qui retourne l’image de x par la fonction\n",
        "fbh."
      ],
      "metadata": {
        "id": "F-DowQo3WwGi"
      }
    },
    {
      "cell_type": "code",
      "source": [
        "def fchapeau(funct,h,x): #l'estimation de la densite f (ici la gaussienne standard, pour une fenetre h, au point x pour le noyau funct)\n",
        "        \n"
      ],
      "metadata": {
        "id": "ww7JoceMW4ky"
      },
      "execution_count": null,
      "outputs": []
    },
    {
      "cell_type": "markdown",
      "source": [
        "###Question 5\n",
        "Représenter sur un même graphique la fonction f de référence ainsi que les quatres fonctions fbh\n",
        "obtenues avec les noyaux K1, K2, K3, K4. Vous ajouterez une légende et des couleurs différentes à\n",
        "toutes les courbes. On fixera pour cette question h = 2. Vous définierez une fonction comme dans\n",
        "la question 2 pour faire cette question. Cette fonction sera nommée Allplotfchapeauh2.\n",
        "\n"
      ],
      "metadata": {
        "id": "9p8PKxioW3-a"
      }
    },
    {
      "cell_type": "code",
      "source": [
        "def Allplotfchapeauh2(xmin,xmax,pas,col1,col2,col3,col4,colref):\n"
      ],
      "metadata": {
        "id": "HKuKtubeXBa9"
      },
      "execution_count": null,
      "outputs": []
    },
    {
      "cell_type": "markdown",
      "source": [
        "###Question 6\n",
        "Refaire la question précédente avec h = 1. Qualitativement, est-ce que l’estimation diffère plus\n",
        "lorsque l’on fait varier le noyau utilisé ou la fenêtre h utilisée ? La nouvelle fonction pour cette\n",
        "question sera nommée Allplotfchapeauh1."
      ],
      "metadata": {
        "id": "ETlrPMDbXCFR"
      }
    },
    {
      "cell_type": "code",
      "source": [
        "def Allplotfchapeauh1(xmin,xmax,pas,col1,col2,col3,col4,colref):\n"
      ],
      "metadata": {
        "id": "Pe0wqT41XJXt"
      },
      "execution_count": null,
      "outputs": []
    },
    {
      "cell_type": "markdown",
      "source": [
        "###Question 7\n",
        "Reprendre les deux questions précédentes pour n = 10 puis n = 1000. Pour cette question, quatre\n",
        "graphiques doivent être construits : le premier pour (n, h) = (10, 2), le second pour (n, h) = (10, 1),\n",
        "le suivant pour (n, h) = (1000, 2) et le dernier pour (n, h) = (1000, 1). Vous détaillerez votre\n",
        "raisonnement dans le script et commenterez les résultats obtenus. Revenir ensuite à la valeur de\n",
        "n = 100 dans le script pour la suite du TP.\n"
      ],
      "metadata": {
        "id": "AjQ2wUgaXJ-y"
      }
    },
    {
      "cell_type": "code",
      "source": [],
      "metadata": {
        "id": "lBOXaFfUXNwE"
      },
      "execution_count": null,
      "outputs": []
    },
    {
      "cell_type": "markdown",
      "source": [
        "\n",
        "---\n",
        "Nous allons calculer l’erreur quadratique d’une estimation : soit\n",
        "\n",
        "\\begin{align}\n",
        "\\ SCE(h) = \\sum_{i=0}^{500}(\\widehat{f_{h}}(t_{i}) - f(t_{i})\n",
        ")^{2}\n",
        "\\end{align}\n",
        "\n",
        "la somme de carrés des écarts entre l’image de ti par l’estimation fbh et l’image de ti par f, où\n",
        "{t0, t1, t2, . . . , t500} est une discrétisation de l’intervalle [−5, 5] de pas 10/500.\n",
        "Autrement dit\n",
        "\n",
        "\\begin{align}\n",
        "\\text{-} 5= t_{0}<t_{1} = \\text{-}5 + 10/500 < t_{2} = \\text{-}5  + 20/500<...< t_{500} = \\text{-}5 + 5000/500 = 5\n",
        "\\end{align}"
      ],
      "metadata": {
        "id": "mocl7dOEXSQp"
      }
    },
    {
      "cell_type": "markdown",
      "source": [
        "###Question 8\n",
        "Définir une fonction SCE qui prend comme paramètre une fonction (le noyau considéré), la fenêtre\n",
        "h, la densité de référence f et qui retourne SCE(h)."
      ],
      "metadata": {
        "id": "uSB0n78gcyxS"
      }
    },
    {
      "cell_type": "code",
      "source": [
        "def SCE(funct,h,f):"
      ],
      "metadata": {
        "id": "vVreDiNiZxzS"
      },
      "execution_count": null,
      "outputs": []
    },
    {
      "cell_type": "markdown",
      "source": [
        "###Question 9\n",
        "Définir une fonction lemeilleurh qui prend une fonction (le noyau en question) et une autre fonction f (la référence) en paramètres et retourne l’index divisé par 100 du minimum de la liste $\\left \\{SCE(k/100)  \\right \\}_{1\\leq k\\leq 200}$. \n",
        "Pour chaque noyau, la meilleur fenêtre pour l’etimation de la fonction de référence est donnée par cette fonction."
      ],
      "metadata": {
        "id": "Ug-D0ypyc2v5"
      }
    },
    {
      "cell_type": "code",
      "source": [
        "def lemeilleurh(funct,f):\n"
      ],
      "metadata": {
        "id": "2QCY6JqXeapN"
      },
      "execution_count": null,
      "outputs": []
    },
    {
      "cell_type": "markdown",
      "source": [
        "###Question 10\n",
        "\n",
        "Définir alors une fonction qui représente graphiquement les quatres estimations de densité pour\n",
        "ces quatre noyaux avec les fenêtre obtenue via la fonction lemeilleurh. Définir pour ce faire, la\n",
        "fonction Allplotfchapeauhoptimal"
      ],
      "metadata": {
        "id": "9TwCmoUQeay6"
      }
    },
    {
      "cell_type": "code",
      "source": [
        "def Allplotfchapeauhoptimal(xmin,xmax,pas,col1,col2,col3,col4,colref):\n"
      ],
      "metadata": {
        "id": "1J7P8rSZegE6"
      },
      "execution_count": null,
      "outputs": []
    },
    {
      "cell_type": "markdown",
      "source": [
        "# Partie 2\n",
        "Nous allons maintenant exploiter les fonctionnalités de scikit-learn. La fonction estimationdensite\n",
        "présente dans le script sert à effectuer une estimation de densité par noyau gaussien (kernel=0\n",
        "gaussian0\n",
        ")\n",
        "avec pour fenêtre h dont la densité de référence est un mélange gaussien (de deux gausiennes de moyennes\n",
        "mu1, mu2 et d’écartyypes sigma1, sigma2). Cette fonction fait appel au package scikit-learn."
      ],
      "metadata": {
        "id": "T0Q6J8fkeos0"
      }
    },
    {
      "cell_type": "markdown",
      "source": [
        "###Question 1 \n",
        "Executer cette fonction avec $mu_{1} = 0, mu_{2} = 5 $ et $sigma_{1} = sigma_{2} = 1, N = 100 $ et $ h = 0.75$."
      ],
      "metadata": {
        "id": "JE-HrdMIe2kx"
      }
    },
    {
      "cell_type": "code",
      "source": [
        "def estimationdensite(N,h,mu1,sigma1,mu2,sigma2):\n",
        "        # générer l'échantillon à partir de deux lois normales\n",
        "        X = np.concatenate((np.random.normal(mu1, sigma1, int(0.3 * N)),\n",
        "                            np.random.normal(mu2, sigma2, int(0.7 * N))))[:, np.newaxis]\n",
        "\n",
        "        # préparer les points oÃ¹ on calculera la densité\n",
        "        X_plot = np.linspace(-5, 10, 1000)[:, np.newaxis]\n",
        "\n",
        "        # préparation de l'affichage de la vraie densité, qui est celle à partir\n",
        "        #  de laquelle les donnes ont été générés (voir plus haut)\n",
        "        # la pondération des lois dans la somme est la pondération des lois\n",
        "        #  dans l'échantillon généré (voir plus haut)\n",
        "        true_density = (0.3 * norm(mu1,sigma1).pdf(X_plot[:,0]) + 0.7 * norm(mu2,sigma2).pdf(X_plot[:,0]))\n",
        "\n",
        "        # estimation de densité par noyaux gaussiens\n",
        "        kde = KernelDensity(kernel='gaussian', bandwidth=h).fit(X)   \n",
        "\n",
        "\n",
        "        # calcul de la densité pour les données de X_plot\n",
        "        density = np.exp(kde.score_samples(X_plot))\n",
        "\n",
        "        # affichage : vraie densité et estimation\n",
        "        fig = plt.figure()\n",
        "        ax = fig.add_subplot(111)\n",
        "        ax.fill(X_plot[:,0], true_density, fc='b', alpha=0.2, label='Vraie densitÃ©')\n",
        "        ax.plot(X_plot[:,0], density, '-', label=\"Estimation\")\n",
        "        ax.plot(X[:, 0], -0.005 - 0.01 * np.random.random(X.shape[0]), '+k')\n",
        "        ax.legend(loc='upper left')\n",
        "        plt.show()           \n"
      ],
      "metadata": {
        "id": "rhM0IHIjeyjF"
      },
      "execution_count": null,
      "outputs": []
    },
    {
      "cell_type": "code",
      "source": [
        "#### Test du code"
      ],
      "metadata": {
        "id": "yy_udFQIgtEd"
      },
      "execution_count": null,
      "outputs": []
    },
    {
      "cell_type": "markdown",
      "source": [
        "### Question 2\n",
        "Comparer à tout autre paramètre fixés comme dans la question précédente, l’influence de la fenêtre\n",
        "h. On pourra tester des valeurs de h comprises entre $0.2$ et $1.5$. Commenter."
      ],
      "metadata": {
        "id": "fdzer0nbfRP5"
      }
    },
    {
      "cell_type": "markdown",
      "source": [
        "###Question 3\n",
        "Faite varier les paramètres des deux lois gaussiennes qui définissent le mélange gaussien. Commenter."
      ],
      "metadata": {
        "id": "aFgkyDeCfcHJ"
      }
    },
    {
      "cell_type": "markdown",
      "source": [
        "###Question 4\n",
        "Faite varier N et commenter\n",
        "\n",
        "*INSERT ANSWER HERE*"
      ],
      "metadata": {
        "id": "gSOf5KG_fjOu"
      }
    },
    {
      "cell_type": "markdown",
      "source": [
        "### Question 5\n",
        "On peut aussi tester d’autres noyaux par exemple en remplaçant ’$gaussian$’ dans le code par\n",
        "’$epanechnikov$’. Réaliser ce graphique en executant la fonction **estimationdensite2** avec les mêmes\n",
        "paramètres que ceux de la question 1."
      ],
      "metadata": {
        "id": "z63ZAPfSfvcS"
      }
    },
    {
      "cell_type": "code",
      "source": [
        "def estimationdensite2(N,h,mu1,sigma1,mu2,sigma2):\n",
        "        # générer l'échantillon à partir de deux lois normales\n",
        "        X = np.concatenate((np.random.normal(mu1, sigma1, int(0.3 * N)),\n",
        "                            np.random.normal(mu2, sigma2, int(0.7 * N))))[:, np.newaxis]\n",
        "\n",
        "        # préparer les points oÃ¹ on calculera la densité\n",
        "        X_plot = np.linspace(-5, 10, 1000)[:, np.newaxis]\n",
        "\n",
        "        # préparation de l'affichage de la vraie densité, qui est celle à partir\n",
        "        #  de laquelle les données ont été générées (voir plus haut)\n",
        "        # la pondération des lois dans la somme est la pondération des lois\n",
        "        #  dans l'échantillon généré (voir plus haut)\n",
        "        true_density = (0.3 * norm(mu1,sigma1).pdf(X_plot[:,0]) + 0.7 * norm(mu2,sigma2).pdf(X_plot[:,0]))\n",
        "\n",
        "        # estimation de densité par noyaux d'epanechnikov\n",
        "        kde = KernelDensity(kernel='epanechnikov', bandwidth=h).fit(X)   \n",
        "\n",
        "\n",
        "        # calcul de la densité pour les données de X_plot\n",
        "        density = np.exp(kde.score_samples(X_plot))\n",
        "\n",
        "        # affichage : vraie densité et estimation\n",
        "        fig = plt.figure()\n",
        "        ax = fig.add_subplot(111)\n",
        "        ax.fill(X_plot[:,0], true_density, fc='b', alpha=0.2, label='Vraie densitÃ©')\n",
        "        ax.plot(X_plot[:,0], density, '-', label=\"Estimation\")\n",
        "        ax.plot(X[:, 0], -0.005 - 0.01 * np.random.random(X.shape[0]), '+k')\n",
        "        ax.legend(loc='upper left')\n",
        "        plt.show()      \n",
        "\n"
      ],
      "metadata": {
        "id": "bGt9bmiFf4Jk"
      },
      "execution_count": null,
      "outputs": []
    }
  ]
}